{
 "cells": [
  {
   "cell_type": "code",
   "execution_count": 2,
   "id": "3a6186ca",
   "metadata": {},
   "outputs": [
    {
     "data": {
      "text/plain": [
       "'E:\\\\project'"
      ]
     },
     "execution_count": 2,
     "metadata": {},
     "output_type": "execute_result"
    }
   ],
   "source": [
    "import pandas as pd\n",
    "from matplotlib import pyplot as plt\n",
    "import numpy as np\n",
    "import os\n",
    "os.chdir('E:\\project')\n",
    "os.getcwd()"
   ]
  },
  {
   "cell_type": "code",
   "execution_count": 3,
   "id": "837fbb2d",
   "metadata": {},
   "outputs": [
    {
     "data": {
      "text/html": [
       "<div>\n",
       "<style scoped>\n",
       "    .dataframe tbody tr th:only-of-type {\n",
       "        vertical-align: middle;\n",
       "    }\n",
       "\n",
       "    .dataframe tbody tr th {\n",
       "        vertical-align: top;\n",
       "    }\n",
       "\n",
       "    .dataframe thead th {\n",
       "        text-align: right;\n",
       "    }\n",
       "</style>\n",
       "<table border=\"1\" class=\"dataframe\">\n",
       "  <thead>\n",
       "    <tr style=\"text-align: right;\">\n",
       "      <th></th>\n",
       "      <th>Father</th>\n",
       "      <th>Son</th>\n",
       "    </tr>\n",
       "  </thead>\n",
       "  <tbody>\n",
       "    <tr>\n",
       "      <th>0</th>\n",
       "      <td>65.0</td>\n",
       "      <td>59.8</td>\n",
       "    </tr>\n",
       "    <tr>\n",
       "      <th>1</th>\n",
       "      <td>63.3</td>\n",
       "      <td>63.2</td>\n",
       "    </tr>\n",
       "    <tr>\n",
       "      <th>2</th>\n",
       "      <td>65.0</td>\n",
       "      <td>63.3</td>\n",
       "    </tr>\n",
       "    <tr>\n",
       "      <th>3</th>\n",
       "      <td>65.8</td>\n",
       "      <td>62.8</td>\n",
       "    </tr>\n",
       "    <tr>\n",
       "      <th>4</th>\n",
       "      <td>61.1</td>\n",
       "      <td>64.3</td>\n",
       "    </tr>\n",
       "    <tr>\n",
       "      <th>...</th>\n",
       "      <td>...</td>\n",
       "      <td>...</td>\n",
       "    </tr>\n",
       "    <tr>\n",
       "      <th>1073</th>\n",
       "      <td>67.0</td>\n",
       "      <td>70.8</td>\n",
       "    </tr>\n",
       "    <tr>\n",
       "      <th>1074</th>\n",
       "      <td>71.3</td>\n",
       "      <td>68.3</td>\n",
       "    </tr>\n",
       "    <tr>\n",
       "      <th>1075</th>\n",
       "      <td>71.8</td>\n",
       "      <td>69.3</td>\n",
       "    </tr>\n",
       "    <tr>\n",
       "      <th>1076</th>\n",
       "      <td>70.7</td>\n",
       "      <td>69.3</td>\n",
       "    </tr>\n",
       "    <tr>\n",
       "      <th>1077</th>\n",
       "      <td>70.3</td>\n",
       "      <td>67.0</td>\n",
       "    </tr>\n",
       "  </tbody>\n",
       "</table>\n",
       "<p>1078 rows × 2 columns</p>\n",
       "</div>"
      ],
      "text/plain": [
       "      Father   Son\n",
       "0       65.0  59.8\n",
       "1       63.3  63.2\n",
       "2       65.0  63.3\n",
       "3       65.8  62.8\n",
       "4       61.1  64.3\n",
       "...      ...   ...\n",
       "1073    67.0  70.8\n",
       "1074    71.3  68.3\n",
       "1075    71.8  69.3\n",
       "1076    70.7  69.3\n",
       "1077    70.3  67.0\n",
       "\n",
       "[1078 rows x 2 columns]"
      ]
     },
     "execution_count": 3,
     "metadata": {},
     "output_type": "execute_result"
    }
   ],
   "source": [
    "df=pd.read_csv(\"father_son.csv\")\n",
    "df"
   ]
  },
  {
   "cell_type": "code",
   "execution_count": 4,
   "id": "41b0237b",
   "metadata": {},
   "outputs": [
    {
     "data": {
      "text/plain": [
       "(1078, 2)"
      ]
     },
     "execution_count": 4,
     "metadata": {},
     "output_type": "execute_result"
    }
   ],
   "source": [
    "df.shape"
   ]
  },
  {
   "cell_type": "code",
   "execution_count": 5,
   "id": "fd5d4338",
   "metadata": {},
   "outputs": [
    {
     "data": {
      "text/plain": [
       "Father    float64\n",
       "Son       float64\n",
       "dtype: object"
      ]
     },
     "execution_count": 5,
     "metadata": {},
     "output_type": "execute_result"
    }
   ],
   "source": [
    "df.dtypes"
   ]
  },
  {
   "cell_type": "code",
   "execution_count": 6,
   "id": "d18a6151",
   "metadata": {},
   "outputs": [
    {
     "name": "stdout",
     "output_type": "stream",
     "text": [
      "<class 'pandas.core.frame.DataFrame'>\n",
      "RangeIndex: 1078 entries, 0 to 1077\n",
      "Data columns (total 2 columns):\n",
      " #   Column  Non-Null Count  Dtype  \n",
      "---  ------  --------------  -----  \n",
      " 0   Father  1078 non-null   float64\n",
      " 1   Son     1078 non-null   float64\n",
      "dtypes: float64(2)\n",
      "memory usage: 17.0 KB\n",
      "None\n"
     ]
    }
   ],
   "source": [
    "print(df.info())"
   ]
  },
  {
   "cell_type": "code",
   "execution_count": 7,
   "id": "d8f8ad13",
   "metadata": {},
   "outputs": [
    {
     "data": {
      "text/html": [
       "<div>\n",
       "<style scoped>\n",
       "    .dataframe tbody tr th:only-of-type {\n",
       "        vertical-align: middle;\n",
       "    }\n",
       "\n",
       "    .dataframe tbody tr th {\n",
       "        vertical-align: top;\n",
       "    }\n",
       "\n",
       "    .dataframe thead th {\n",
       "        text-align: right;\n",
       "    }\n",
       "</style>\n",
       "<table border=\"1\" class=\"dataframe\">\n",
       "  <thead>\n",
       "    <tr style=\"text-align: right;\">\n",
       "      <th></th>\n",
       "      <th>Father</th>\n",
       "      <th>Son</th>\n",
       "    </tr>\n",
       "  </thead>\n",
       "  <tbody>\n",
       "    <tr>\n",
       "      <th>count</th>\n",
       "      <td>1078.000000</td>\n",
       "      <td>1078.000000</td>\n",
       "    </tr>\n",
       "    <tr>\n",
       "      <th>mean</th>\n",
       "      <td>67.686827</td>\n",
       "      <td>68.684230</td>\n",
       "    </tr>\n",
       "    <tr>\n",
       "      <th>std</th>\n",
       "      <td>2.745827</td>\n",
       "      <td>2.816194</td>\n",
       "    </tr>\n",
       "    <tr>\n",
       "      <th>min</th>\n",
       "      <td>59.000000</td>\n",
       "      <td>58.500000</td>\n",
       "    </tr>\n",
       "    <tr>\n",
       "      <th>25%</th>\n",
       "      <td>65.800000</td>\n",
       "      <td>66.900000</td>\n",
       "    </tr>\n",
       "    <tr>\n",
       "      <th>50%</th>\n",
       "      <td>67.800000</td>\n",
       "      <td>68.600000</td>\n",
       "    </tr>\n",
       "    <tr>\n",
       "      <th>75%</th>\n",
       "      <td>69.600000</td>\n",
       "      <td>70.500000</td>\n",
       "    </tr>\n",
       "    <tr>\n",
       "      <th>max</th>\n",
       "      <td>75.400000</td>\n",
       "      <td>78.400000</td>\n",
       "    </tr>\n",
       "  </tbody>\n",
       "</table>\n",
       "</div>"
      ],
      "text/plain": [
       "            Father          Son\n",
       "count  1078.000000  1078.000000\n",
       "mean     67.686827    68.684230\n",
       "std       2.745827     2.816194\n",
       "min      59.000000    58.500000\n",
       "25%      65.800000    66.900000\n",
       "50%      67.800000    68.600000\n",
       "75%      69.600000    70.500000\n",
       "max      75.400000    78.400000"
      ]
     },
     "execution_count": 7,
     "metadata": {},
     "output_type": "execute_result"
    }
   ],
   "source": [
    "df.describe()"
   ]
  },
  {
   "cell_type": "code",
   "execution_count": 8,
   "id": "0f1ba763",
   "metadata": {},
   "outputs": [
    {
     "name": "stdout",
     "output_type": "stream",
     "text": [
      " Data columns with null values  Father    0\n",
      "Son       0\n",
      "dtype: int64\n"
     ]
    }
   ],
   "source": [
    "cnt=df.isnull().sum()\n",
    "print(\" Data columns with null values \",cnt)"
   ]
  },
  {
   "cell_type": "code",
   "execution_count": 9,
   "id": "8df5b12d",
   "metadata": {},
   "outputs": [
    {
     "data": {
      "text/plain": [
       "array(['Father', 'Son'], dtype=object)"
      ]
     },
     "execution_count": 9,
     "metadata": {},
     "output_type": "execute_result"
    }
   ],
   "source": [
    "#TO GET THE NUMERICAL VARIABLES\n",
    "numerical_features=(df.select_dtypes(include=['int64','float64']).columns.values)\n",
    "numerical_features"
   ]
  },
  {
   "cell_type": "code",
   "execution_count": 10,
   "id": "0dd23086",
   "metadata": {},
   "outputs": [
    {
     "data": {
      "text/plain": [
       "array([], dtype=object)"
      ]
     },
     "execution_count": 10,
     "metadata": {},
     "output_type": "execute_result"
    }
   ],
   "source": [
    "#TO GET THE categorical VARIABLES\n",
    "categorical_features=(df.select_dtypes(include=['object']).columns.values)\n",
    "categorical_features"
   ]
  },
  {
   "cell_type": "code",
   "execution_count": 11,
   "id": "f6c7726f",
   "metadata": {},
   "outputs": [
    {
     "data": {
      "text/html": [
       "<div>\n",
       "<style scoped>\n",
       "    .dataframe tbody tr th:only-of-type {\n",
       "        vertical-align: middle;\n",
       "    }\n",
       "\n",
       "    .dataframe tbody tr th {\n",
       "        vertical-align: top;\n",
       "    }\n",
       "\n",
       "    .dataframe thead th {\n",
       "        text-align: right;\n",
       "    }\n",
       "</style>\n",
       "<table border=\"1\" class=\"dataframe\">\n",
       "  <thead>\n",
       "    <tr style=\"text-align: right;\">\n",
       "      <th></th>\n",
       "      <th>Father</th>\n",
       "      <th>Son</th>\n",
       "    </tr>\n",
       "  </thead>\n",
       "  <tbody>\n",
       "    <tr>\n",
       "      <th>0</th>\n",
       "      <td>65.0</td>\n",
       "      <td>59.8</td>\n",
       "    </tr>\n",
       "    <tr>\n",
       "      <th>1</th>\n",
       "      <td>63.3</td>\n",
       "      <td>63.2</td>\n",
       "    </tr>\n",
       "    <tr>\n",
       "      <th>2</th>\n",
       "      <td>65.0</td>\n",
       "      <td>63.3</td>\n",
       "    </tr>\n",
       "    <tr>\n",
       "      <th>3</th>\n",
       "      <td>65.8</td>\n",
       "      <td>62.8</td>\n",
       "    </tr>\n",
       "    <tr>\n",
       "      <th>4</th>\n",
       "      <td>61.1</td>\n",
       "      <td>64.3</td>\n",
       "    </tr>\n",
       "  </tbody>\n",
       "</table>\n",
       "</div>"
      ],
      "text/plain": [
       "   Father   Son\n",
       "0    65.0  59.8\n",
       "1    63.3  63.2\n",
       "2    65.0  63.3\n",
       "3    65.8  62.8\n",
       "4    61.1  64.3"
      ]
     },
     "execution_count": 11,
     "metadata": {},
     "output_type": "execute_result"
    }
   ],
   "source": [
    "df.head()"
   ]
  },
  {
   "cell_type": "code",
   "execution_count": 12,
   "id": "55ed3d27",
   "metadata": {},
   "outputs": [
    {
     "data": {
      "text/html": [
       "<div>\n",
       "<style scoped>\n",
       "    .dataframe tbody tr th:only-of-type {\n",
       "        vertical-align: middle;\n",
       "    }\n",
       "\n",
       "    .dataframe tbody tr th {\n",
       "        vertical-align: top;\n",
       "    }\n",
       "\n",
       "    .dataframe thead th {\n",
       "        text-align: right;\n",
       "    }\n",
       "</style>\n",
       "<table border=\"1\" class=\"dataframe\">\n",
       "  <thead>\n",
       "    <tr style=\"text-align: right;\">\n",
       "      <th></th>\n",
       "      <th>Father</th>\n",
       "      <th>Son</th>\n",
       "    </tr>\n",
       "  </thead>\n",
       "  <tbody>\n",
       "    <tr>\n",
       "      <th>1073</th>\n",
       "      <td>67.0</td>\n",
       "      <td>70.8</td>\n",
       "    </tr>\n",
       "    <tr>\n",
       "      <th>1074</th>\n",
       "      <td>71.3</td>\n",
       "      <td>68.3</td>\n",
       "    </tr>\n",
       "    <tr>\n",
       "      <th>1075</th>\n",
       "      <td>71.8</td>\n",
       "      <td>69.3</td>\n",
       "    </tr>\n",
       "    <tr>\n",
       "      <th>1076</th>\n",
       "      <td>70.7</td>\n",
       "      <td>69.3</td>\n",
       "    </tr>\n",
       "    <tr>\n",
       "      <th>1077</th>\n",
       "      <td>70.3</td>\n",
       "      <td>67.0</td>\n",
       "    </tr>\n",
       "  </tbody>\n",
       "</table>\n",
       "</div>"
      ],
      "text/plain": [
       "      Father   Son\n",
       "1073    67.0  70.8\n",
       "1074    71.3  68.3\n",
       "1075    71.8  69.3\n",
       "1076    70.7  69.3\n",
       "1077    70.3  67.0"
      ]
     },
     "execution_count": 12,
     "metadata": {},
     "output_type": "execute_result"
    }
   ],
   "source": [
    "df.tail()"
   ]
  },
  {
   "cell_type": "code",
   "execution_count": 13,
   "id": "adee77c9",
   "metadata": {},
   "outputs": [],
   "source": [
    "from sklearn.model_selection import train_test_split"
   ]
  },
  {
   "cell_type": "code",
   "execution_count": 14,
   "id": "696725e0",
   "metadata": {},
   "outputs": [],
   "source": [
    "X = df.drop(\"Son\", axis=1)\n",
    "y = df['Son']"
   ]
  },
  {
   "cell_type": "code",
   "execution_count": 15,
   "id": "4aba30ec",
   "metadata": {},
   "outputs": [
    {
     "data": {
      "text/html": [
       "<div>\n",
       "<style scoped>\n",
       "    .dataframe tbody tr th:only-of-type {\n",
       "        vertical-align: middle;\n",
       "    }\n",
       "\n",
       "    .dataframe tbody tr th {\n",
       "        vertical-align: top;\n",
       "    }\n",
       "\n",
       "    .dataframe thead th {\n",
       "        text-align: right;\n",
       "    }\n",
       "</style>\n",
       "<table border=\"1\" class=\"dataframe\">\n",
       "  <thead>\n",
       "    <tr style=\"text-align: right;\">\n",
       "      <th></th>\n",
       "      <th>Father</th>\n",
       "    </tr>\n",
       "  </thead>\n",
       "  <tbody>\n",
       "    <tr>\n",
       "      <th>0</th>\n",
       "      <td>65.0</td>\n",
       "    </tr>\n",
       "    <tr>\n",
       "      <th>1</th>\n",
       "      <td>63.3</td>\n",
       "    </tr>\n",
       "    <tr>\n",
       "      <th>2</th>\n",
       "      <td>65.0</td>\n",
       "    </tr>\n",
       "    <tr>\n",
       "      <th>3</th>\n",
       "      <td>65.8</td>\n",
       "    </tr>\n",
       "    <tr>\n",
       "      <th>4</th>\n",
       "      <td>61.1</td>\n",
       "    </tr>\n",
       "    <tr>\n",
       "      <th>...</th>\n",
       "      <td>...</td>\n",
       "    </tr>\n",
       "    <tr>\n",
       "      <th>1073</th>\n",
       "      <td>67.0</td>\n",
       "    </tr>\n",
       "    <tr>\n",
       "      <th>1074</th>\n",
       "      <td>71.3</td>\n",
       "    </tr>\n",
       "    <tr>\n",
       "      <th>1075</th>\n",
       "      <td>71.8</td>\n",
       "    </tr>\n",
       "    <tr>\n",
       "      <th>1076</th>\n",
       "      <td>70.7</td>\n",
       "    </tr>\n",
       "    <tr>\n",
       "      <th>1077</th>\n",
       "      <td>70.3</td>\n",
       "    </tr>\n",
       "  </tbody>\n",
       "</table>\n",
       "<p>1078 rows × 1 columns</p>\n",
       "</div>"
      ],
      "text/plain": [
       "      Father\n",
       "0       65.0\n",
       "1       63.3\n",
       "2       65.0\n",
       "3       65.8\n",
       "4       61.1\n",
       "...      ...\n",
       "1073    67.0\n",
       "1074    71.3\n",
       "1075    71.8\n",
       "1076    70.7\n",
       "1077    70.3\n",
       "\n",
       "[1078 rows x 1 columns]"
      ]
     },
     "execution_count": 15,
     "metadata": {},
     "output_type": "execute_result"
    }
   ],
   "source": [
    "X"
   ]
  },
  {
   "cell_type": "code",
   "execution_count": 16,
   "id": "ea734531",
   "metadata": {},
   "outputs": [
    {
     "data": {
      "text/plain": [
       "0       59.8\n",
       "1       63.2\n",
       "2       63.3\n",
       "3       62.8\n",
       "4       64.3\n",
       "        ... \n",
       "1073    70.8\n",
       "1074    68.3\n",
       "1075    69.3\n",
       "1076    69.3\n",
       "1077    67.0\n",
       "Name: Son, Length: 1078, dtype: float64"
      ]
     },
     "execution_count": 16,
     "metadata": {},
     "output_type": "execute_result"
    }
   ],
   "source": [
    "y"
   ]
  },
  {
   "cell_type": "code",
   "execution_count": 17,
   "id": "bd8e82b6",
   "metadata": {},
   "outputs": [],
   "source": [
    "X_train, X_test, y_train, y_test = train_test_split(X, y,test_size=0.2, random_state=0)"
   ]
  },
  {
   "cell_type": "code",
   "execution_count": 18,
   "id": "ddaa8d0c",
   "metadata": {},
   "outputs": [
    {
     "data": {
      "text/html": [
       "<div>\n",
       "<style scoped>\n",
       "    .dataframe tbody tr th:only-of-type {\n",
       "        vertical-align: middle;\n",
       "    }\n",
       "\n",
       "    .dataframe tbody tr th {\n",
       "        vertical-align: top;\n",
       "    }\n",
       "\n",
       "    .dataframe thead th {\n",
       "        text-align: right;\n",
       "    }\n",
       "</style>\n",
       "<table border=\"1\" class=\"dataframe\">\n",
       "  <thead>\n",
       "    <tr style=\"text-align: right;\">\n",
       "      <th></th>\n",
       "      <th>Father</th>\n",
       "    </tr>\n",
       "  </thead>\n",
       "  <tbody>\n",
       "    <tr>\n",
       "      <th>988</th>\n",
       "      <td>68.8</td>\n",
       "    </tr>\n",
       "    <tr>\n",
       "      <th>485</th>\n",
       "      <td>66.0</td>\n",
       "    </tr>\n",
       "    <tr>\n",
       "      <th>54</th>\n",
       "      <td>65.6</td>\n",
       "    </tr>\n",
       "    <tr>\n",
       "      <th>34</th>\n",
       "      <td>68.3</td>\n",
       "    </tr>\n",
       "    <tr>\n",
       "      <th>366</th>\n",
       "      <td>70.5</td>\n",
       "    </tr>\n",
       "    <tr>\n",
       "      <th>...</th>\n",
       "      <td>...</td>\n",
       "    </tr>\n",
       "    <tr>\n",
       "      <th>1033</th>\n",
       "      <td>69.6</td>\n",
       "    </tr>\n",
       "    <tr>\n",
       "      <th>763</th>\n",
       "      <td>67.9</td>\n",
       "    </tr>\n",
       "    <tr>\n",
       "      <th>835</th>\n",
       "      <td>72.8</td>\n",
       "    </tr>\n",
       "    <tr>\n",
       "      <th>559</th>\n",
       "      <td>70.2</td>\n",
       "    </tr>\n",
       "    <tr>\n",
       "      <th>684</th>\n",
       "      <td>69.7</td>\n",
       "    </tr>\n",
       "  </tbody>\n",
       "</table>\n",
       "<p>862 rows × 1 columns</p>\n",
       "</div>"
      ],
      "text/plain": [
       "      Father\n",
       "988     68.8\n",
       "485     66.0\n",
       "54      65.6\n",
       "34      68.3\n",
       "366     70.5\n",
       "...      ...\n",
       "1033    69.6\n",
       "763     67.9\n",
       "835     72.8\n",
       "559     70.2\n",
       "684     69.7\n",
       "\n",
       "[862 rows x 1 columns]"
      ]
     },
     "execution_count": 18,
     "metadata": {},
     "output_type": "execute_result"
    }
   ],
   "source": [
    "X_train"
   ]
  },
  {
   "cell_type": "code",
   "execution_count": 19,
   "id": "64243744",
   "metadata": {},
   "outputs": [
    {
     "data": {
      "text/html": [
       "<div>\n",
       "<style scoped>\n",
       "    .dataframe tbody tr th:only-of-type {\n",
       "        vertical-align: middle;\n",
       "    }\n",
       "\n",
       "    .dataframe tbody tr th {\n",
       "        vertical-align: top;\n",
       "    }\n",
       "\n",
       "    .dataframe thead th {\n",
       "        text-align: right;\n",
       "    }\n",
       "</style>\n",
       "<table border=\"1\" class=\"dataframe\">\n",
       "  <thead>\n",
       "    <tr style=\"text-align: right;\">\n",
       "      <th></th>\n",
       "      <th>Father</th>\n",
       "    </tr>\n",
       "  </thead>\n",
       "  <tbody>\n",
       "    <tr>\n",
       "      <th>239</th>\n",
       "      <td>63.9</td>\n",
       "    </tr>\n",
       "    <tr>\n",
       "      <th>1016</th>\n",
       "      <td>70.6</td>\n",
       "    </tr>\n",
       "    <tr>\n",
       "      <th>725</th>\n",
       "      <td>66.1</td>\n",
       "    </tr>\n",
       "    <tr>\n",
       "      <th>486</th>\n",
       "      <td>66.0</td>\n",
       "    </tr>\n",
       "    <tr>\n",
       "      <th>561</th>\n",
       "      <td>71.1</td>\n",
       "    </tr>\n",
       "    <tr>\n",
       "      <th>...</th>\n",
       "      <td>...</td>\n",
       "    </tr>\n",
       "    <tr>\n",
       "      <th>474</th>\n",
       "      <td>64.7</td>\n",
       "    </tr>\n",
       "    <tr>\n",
       "      <th>632</th>\n",
       "      <td>68.8</td>\n",
       "    </tr>\n",
       "    <tr>\n",
       "      <th>658</th>\n",
       "      <td>63.0</td>\n",
       "    </tr>\n",
       "    <tr>\n",
       "      <th>533</th>\n",
       "      <td>72.4</td>\n",
       "    </tr>\n",
       "    <tr>\n",
       "      <th>483</th>\n",
       "      <td>66.1</td>\n",
       "    </tr>\n",
       "  </tbody>\n",
       "</table>\n",
       "<p>216 rows × 1 columns</p>\n",
       "</div>"
      ],
      "text/plain": [
       "      Father\n",
       "239     63.9\n",
       "1016    70.6\n",
       "725     66.1\n",
       "486     66.0\n",
       "561     71.1\n",
       "...      ...\n",
       "474     64.7\n",
       "632     68.8\n",
       "658     63.0\n",
       "533     72.4\n",
       "483     66.1\n",
       "\n",
       "[216 rows x 1 columns]"
      ]
     },
     "execution_count": 19,
     "metadata": {},
     "output_type": "execute_result"
    }
   ],
   "source": [
    "X_test"
   ]
  },
  {
   "cell_type": "code",
   "execution_count": 20,
   "id": "a5d5b63f",
   "metadata": {},
   "outputs": [
    {
     "data": {
      "text/html": [
       "<div>\n",
       "<style scoped>\n",
       "    .dataframe tbody tr th:only-of-type {\n",
       "        vertical-align: middle;\n",
       "    }\n",
       "\n",
       "    .dataframe tbody tr th {\n",
       "        vertical-align: top;\n",
       "    }\n",
       "\n",
       "    .dataframe thead th {\n",
       "        text-align: right;\n",
       "    }\n",
       "</style>\n",
       "<table border=\"1\" class=\"dataframe\">\n",
       "  <thead>\n",
       "    <tr style=\"text-align: right;\">\n",
       "      <th></th>\n",
       "      <th>Father</th>\n",
       "    </tr>\n",
       "  </thead>\n",
       "  <tbody>\n",
       "    <tr>\n",
       "      <th>239</th>\n",
       "      <td>63.9</td>\n",
       "    </tr>\n",
       "    <tr>\n",
       "      <th>1016</th>\n",
       "      <td>70.6</td>\n",
       "    </tr>\n",
       "    <tr>\n",
       "      <th>725</th>\n",
       "      <td>66.1</td>\n",
       "    </tr>\n",
       "    <tr>\n",
       "      <th>486</th>\n",
       "      <td>66.0</td>\n",
       "    </tr>\n",
       "    <tr>\n",
       "      <th>561</th>\n",
       "      <td>71.1</td>\n",
       "    </tr>\n",
       "    <tr>\n",
       "      <th>...</th>\n",
       "      <td>...</td>\n",
       "    </tr>\n",
       "    <tr>\n",
       "      <th>474</th>\n",
       "      <td>64.7</td>\n",
       "    </tr>\n",
       "    <tr>\n",
       "      <th>632</th>\n",
       "      <td>68.8</td>\n",
       "    </tr>\n",
       "    <tr>\n",
       "      <th>658</th>\n",
       "      <td>63.0</td>\n",
       "    </tr>\n",
       "    <tr>\n",
       "      <th>533</th>\n",
       "      <td>72.4</td>\n",
       "    </tr>\n",
       "    <tr>\n",
       "      <th>483</th>\n",
       "      <td>66.1</td>\n",
       "    </tr>\n",
       "  </tbody>\n",
       "</table>\n",
       "<p>216 rows × 1 columns</p>\n",
       "</div>"
      ],
      "text/plain": [
       "      Father\n",
       "239     63.9\n",
       "1016    70.6\n",
       "725     66.1\n",
       "486     66.0\n",
       "561     71.1\n",
       "...      ...\n",
       "474     64.7\n",
       "632     68.8\n",
       "658     63.0\n",
       "533     72.4\n",
       "483     66.1\n",
       "\n",
       "[216 rows x 1 columns]"
      ]
     },
     "execution_count": 20,
     "metadata": {},
     "output_type": "execute_result"
    }
   ],
   "source": [
    "X_test"
   ]
  },
  {
   "cell_type": "code",
   "execution_count": 21,
   "id": "6134ff78",
   "metadata": {},
   "outputs": [
    {
     "data": {
      "text/plain": [
       "988     68.9\n",
       "485     66.8\n",
       "54      67.6\n",
       "34      66.3\n",
       "366     70.3\n",
       "        ... \n",
       "1033    71.6\n",
       "763     69.1\n",
       "835     72.4\n",
       "559     69.4\n",
       "684     66.6\n",
       "Name: Son, Length: 862, dtype: float64"
      ]
     },
     "execution_count": 21,
     "metadata": {},
     "output_type": "execute_result"
    }
   ],
   "source": [
    "y_train"
   ]
  },
  {
   "cell_type": "code",
   "execution_count": 22,
   "id": "700940c4",
   "metadata": {},
   "outputs": [
    {
     "data": {
      "text/plain": [
       "239     66.7\n",
       "1016    70.4\n",
       "725     68.1\n",
       "486     67.1\n",
       "561     69.5\n",
       "        ... \n",
       "474     66.8\n",
       "632     75.7\n",
       "658     65.2\n",
       "533     68.6\n",
       "483     67.2\n",
       "Name: Son, Length: 216, dtype: float64"
      ]
     },
     "execution_count": 22,
     "metadata": {},
     "output_type": "execute_result"
    }
   ],
   "source": [
    "y_test"
   ]
  },
  {
   "cell_type": "code",
   "execution_count": 23,
   "id": "20d154a8",
   "metadata": {},
   "outputs": [],
   "source": [
    "from sklearn.linear_model import LinearRegression"
   ]
  },
  {
   "cell_type": "code",
   "execution_count": 24,
   "id": "b5a2d8ec",
   "metadata": {},
   "outputs": [
    {
     "name": "stdout",
     "output_type": "stream",
     "text": [
      "The Training Score of Linear Regression Model is 25.089366998728657\n"
     ]
    }
   ],
   "source": [
    "my_model = LinearRegression() #my_model is created using the linear regression algorithm\n",
    "result = my_model.fit(X_train, y_train) #train the my_model using the X_train, y_train data\n",
    "res=my_model.score(X_train, y_train)\n",
    "print(\"The Training Score of Linear Regression Model is\",res*100)"
   ]
  },
  {
   "cell_type": "code",
   "execution_count": 25,
   "id": "f87171dc",
   "metadata": {},
   "outputs": [
    {
     "data": {
      "text/plain": [
       "array([66.79242428, 70.20655392, 67.91348177, 67.86252462, 70.46133972,\n",
       "       68.21922473, 69.74793949, 67.14912439, 68.93262495, 71.12378278,\n",
       "       69.84985381, 68.16826757, 68.42305336, 67.70965314, 71.07282562,\n",
       "       68.67783916, 69.95176813, 70.25751108, 68.42305336, 66.33380985,\n",
       "       70.00272529, 68.52496768, 68.3720962 , 67.09816723, 68.21922473,\n",
       "       65.26370951, 69.28932506, 68.98358211, 67.86252462, 67.60773882,\n",
       "       71.17473994, 68.21922473, 68.52496768, 68.52496768, 69.39123938,\n",
       "       69.08549643, 70.81803983, 67.5058245 , 71.53144005, 68.626882  ,\n",
       "       69.13645359, 69.28932506, 68.57592484, 66.28285269, 67.91348177,\n",
       "       66.84338144, 67.86252462, 69.13645359, 70.91995415, 66.43572417,\n",
       "       69.59506802, 67.91348177, 69.54411086, 69.08549643, 68.57592484,\n",
       "       66.48668133, 67.04721007, 67.96443893, 67.96443893, 67.91348177,\n",
       "       68.77975347, 67.20008155, 66.74146712, 69.13645359, 66.38476701,\n",
       "       67.86252462, 69.79889665, 69.74793949, 69.44219654, 70.66516835,\n",
       "       70.00272529, 65.31466667, 69.08549643, 69.95176813, 67.09816723,\n",
       "       67.91348177, 70.15559676, 69.44219654, 67.96443893, 68.21922473,\n",
       "       67.45486734, 67.7606103 , 67.40391019, 67.09816723, 69.84985381,\n",
       "       67.14912439, 69.90081097, 71.12378278, 68.42305336, 68.57592484,\n",
       "       70.61421119, 67.55678166, 67.14912439, 67.91348177, 67.70965314,\n",
       "       68.77975347, 66.69050996, 68.88166779, 69.59506802, 72.29579743,\n",
       "       69.54411086, 70.76708267, 69.2383679 , 71.88814016, 70.91995415,\n",
       "       68.11731041, 67.81156746, 68.32113904, 69.34028222, 71.58239721,\n",
       "       68.67783916, 68.67783916, 69.03453927, 68.57592484, 67.14912439,\n",
       "       67.60773882, 67.20008155, 66.79242428, 69.59506802, 69.03453927,\n",
       "       69.90081097, 68.72879632, 69.59506802, 67.86252462, 69.08549643,\n",
       "       67.70965314, 67.81156746, 69.90081097, 69.34028222, 68.42305336,\n",
       "       65.36562383, 70.25751108, 70.15559676, 66.8943386 , 69.28932506,\n",
       "       68.626882  , 68.27018189, 68.83071063, 69.74793949, 70.20655392,\n",
       "       66.33380985, 66.48668133, 66.18093837, 67.35295303, 70.51229687,\n",
       "       68.32113904, 71.2256971 , 69.90081097, 68.88166779, 70.66516835,\n",
       "       66.99625291, 67.91348177, 68.06635325, 67.35295303, 70.00272529,\n",
       "       67.25103871, 67.96443893, 66.18093837, 69.95176813, 71.37856858,\n",
       "       69.54411086, 67.5058245 , 64.55030929, 70.05368245, 68.52496768,\n",
       "       69.2383679 , 67.65869598, 68.93262495, 67.91348177, 68.57592484,\n",
       "       69.54411086, 68.16826757, 68.93262495, 68.67783916, 69.03453927,\n",
       "       68.67783916, 68.72879632, 68.06635325, 68.52496768, 68.72879632,\n",
       "       68.16826757, 68.77975347, 69.44219654, 69.90081097, 68.47401052,\n",
       "       68.52496768, 69.13645359, 68.52496768, 68.11731041, 69.74793949,\n",
       "       66.69050996, 68.52496768, 67.40391019, 68.52496768, 68.01539609,\n",
       "       67.96443893, 66.48668133, 68.83071063, 69.39123938, 68.21922473,\n",
       "       68.11731041, 66.28285269, 67.96443893, 69.44219654, 67.91348177,\n",
       "       71.32761142, 71.27665426, 70.51229687, 68.57592484, 68.21922473,\n",
       "       69.44219654, 67.20008155, 69.28932506, 66.33380985, 71.12378278,\n",
       "       67.91348177])"
      ]
     },
     "execution_count": 25,
     "metadata": {},
     "output_type": "execute_result"
    }
   ],
   "source": [
    "predictions = result.predict(X_test) ## the trained model is tested using X_test\n",
    "predictions"
   ]
  },
  {
   "cell_type": "code",
   "execution_count": 26,
   "id": "f4cca56d",
   "metadata": {},
   "outputs": [],
   "source": [
    "import pickle\n",
    "pickle.dump(my_model, open('model.pkl','wb')) "
   ]
  },
  {
   "cell_type": "code",
   "execution_count": null,
   "id": "2a868b70",
   "metadata": {},
   "outputs": [],
   "source": []
  },
  {
   "cell_type": "code",
   "execution_count": null,
   "id": "fe0f864a",
   "metadata": {},
   "outputs": [],
   "source": []
  },
  {
   "cell_type": "code",
   "execution_count": null,
   "id": "4848df25",
   "metadata": {},
   "outputs": [],
   "source": []
  }
 ],
 "metadata": {
  "kernelspec": {
   "display_name": "Python 3 (ipykernel)",
   "language": "python",
   "name": "python3"
  },
  "language_info": {
   "codemirror_mode": {
    "name": "ipython",
    "version": 3
   },
   "file_extension": ".py",
   "mimetype": "text/x-python",
   "name": "python",
   "nbconvert_exporter": "python",
   "pygments_lexer": "ipython3",
   "version": "3.9.12"
  }
 },
 "nbformat": 4,
 "nbformat_minor": 5
}
